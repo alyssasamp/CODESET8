{
 "cells": [
  {
   "cell_type": "markdown",
   "id": "d03046b2",
   "metadata": {},
   "source": [
    "# CODE SET 8 "
   ]
  },
  {
   "cell_type": "markdown",
   "id": "b98f5463",
   "metadata": {},
   "source": [
    "# Algorithm workbench problem 2\n",
    "Write a loop that counts the number of space characters that appear in the string referenced by mystring."
   ]
  },
  {
   "cell_type": "code",
   "execution_count": 6,
   "id": "deb80ddb",
   "metadata": {},
   "outputs": [
    {
     "name": "stdout",
     "output_type": "stream",
     "text": [
      "Enter Text: I am Alyssa Samp and go to Michigan State University \n",
      "There are 10 spaces in the text\n"
     ]
    }
   ],
   "source": [
    "#Main function\n",
    "def main():\n",
    "    #Initial count \n",
    "    count = 0 \n",
    "    \n",
    "    #HAve them write text using input\n",
    "    mystring= input(\"Enter Text: \")\n",
    "    \n",
    "    #Use for to make loop of the spaces \n",
    "    for ch in mystring:\n",
    "        #ch is what is allowing this code to count the spaces in it(what its looking for)\n",
    "        if ch ==' ':\n",
    "            count +=1\n",
    "            \n",
    "            #Write out the ending result of amount of spaces \n",
    "    print(f'There are {count} spaces in the text')\n",
    "            \n",
    "#Call main function\n",
    "if __name__=='__main__':\n",
    "    main()"
   ]
  },
  {
   "cell_type": "markdown",
   "id": "241503c0",
   "metadata": {},
   "source": [
    "# Problem 4 Algorithm workbench \n",
    "Write a loop that counts the number of lowercase characters that appear in the string referenced by mystring."
   ]
  },
  {
   "cell_type": "code",
   "execution_count": 8,
   "id": "77081d74",
   "metadata": {},
   "outputs": [
    {
     "name": "stdout",
     "output_type": "stream",
     "text": [
      "Enter textHi, I am 19 years old and grew up in Wixom, Michigan.\n",
      "There are 1 lowercase letters\n",
      "There are 2 lowercase letters\n",
      "There are 3 lowercase letters\n",
      "There are 4 lowercase letters\n",
      "There are 5 lowercase letters\n",
      "There are 6 lowercase letters\n",
      "There are 7 lowercase letters\n",
      "There are 8 lowercase letters\n",
      "There are 9 lowercase letters\n",
      "There are 10 lowercase letters\n",
      "There are 11 lowercase letters\n",
      "There are 12 lowercase letters\n",
      "There are 13 lowercase letters\n",
      "There are 14 lowercase letters\n",
      "There are 15 lowercase letters\n",
      "There are 16 lowercase letters\n",
      "There are 17 lowercase letters\n",
      "There are 18 lowercase letters\n",
      "There are 19 lowercase letters\n",
      "There are 20 lowercase letters\n",
      "There are 21 lowercase letters\n",
      "There are 22 lowercase letters\n",
      "There are 23 lowercase letters\n",
      "There are 24 lowercase letters\n",
      "There are 25 lowercase letters\n",
      "There are 26 lowercase letters\n",
      "There are 27 lowercase letters\n",
      "There are 28 lowercase letters\n",
      "There are 29 lowercase letters\n",
      "There are 30 lowercase letters\n",
      "There are 31 lowercase letters\n",
      "There are 32 lowercase letters\n",
      "There are 33 lowercase letters\n"
     ]
    }
   ],
   "source": [
    "#Main function\n",
    "def main():\n",
    "    #Start the intial count to 0\n",
    "    count = 0\n",
    "    \n",
    "    #asking them to write the text(just like with problem 2 above)\n",
    "    mystring= input(\"Enter text\")\n",
    "    \n",
    "    #BEgin the foor loop which is where it counts the number of lowercase letters \n",
    "    for ch in mystring:\n",
    "        if ch.islower():\n",
    "            count += 1\n",
    "            \n",
    "            #Use print to display result of number of lowercase \n",
    "            print(f'There are {count} lowercase letters')\n",
    "                  \n",
    "#Call main\n",
    "if __name__=='__main__':\n",
    "    main()"
   ]
  },
  {
   "cell_type": "code",
   "execution_count": null,
   "id": "0ec14c45",
   "metadata": {},
   "outputs": [],
   "source": []
  }
 ],
 "metadata": {
  "kernelspec": {
   "display_name": "Python 3 (ipykernel)",
   "language": "python",
   "name": "python3"
  },
  "language_info": {
   "codemirror_mode": {
    "name": "ipython",
    "version": 3
   },
   "file_extension": ".py",
   "mimetype": "text/x-python",
   "name": "python",
   "nbconvert_exporter": "python",
   "pygments_lexer": "ipython3",
   "version": "3.10.9"
  }
 },
 "nbformat": 4,
 "nbformat_minor": 5
}
