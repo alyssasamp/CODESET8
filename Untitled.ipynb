{
 "cells": [
  {
   "cell_type": "markdown",
   "id": "0c573a2a",
   "metadata": {},
   "source": [
    "# CODE SET 8 "
   ]
  },
  {
   "cell_type": "markdown",
   "id": "cac9f741",
   "metadata": {},
   "source": [
    "# Algorithm workbench problem 2\n",
    "Write a loop that counts the number of space characters that appear in the string referenced by mystring."
   ]
  },
  {
   "cell_type": "code",
   "execution_count": null,
   "id": "3c1a16a9",
   "metadata": {},
   "outputs": [],
   "source": [
    "#Main function\n",
    "def main():\n",
    "    #Initial count \n",
    "    count = 0 \n",
    "    \n",
    "    #HAve them write text using input\n",
    "    mystring= input(\"Enter Text: \")\n",
    "    \n",
    "    #Use for to make loop of the spaces \n",
    "    for ch in mystring:\n",
    "        #ch is what is allowing this code to count the spaces in it(what its looking for)\n",
    "        if ch =='':\n",
    "            count+=1\n",
    "            \n",
    "            #Write out the ending result of amount of spaces \n",
    "            print(f'There are {count} spaces in the text')\n",
    "            \n",
    "#Call main function\n",
    "if __name__=='__main__':\n",
    "    main()"
   ]
  },
  {
   "cell_type": "code",
   "execution_count": null,
   "id": "f7c16d16",
   "metadata": {},
   "outputs": [],
   "source": []
  }
 ],
 "metadata": {
  "kernelspec": {
   "display_name": "Python 3 (ipykernel)",
   "language": "python",
   "name": "python3"
  },
  "language_info": {
   "codemirror_mode": {
    "name": "ipython",
    "version": 3
   },
   "file_extension": ".py",
   "mimetype": "text/x-python",
   "name": "python",
   "nbconvert_exporter": "python",
   "pygments_lexer": "ipython3",
   "version": "3.10.9"
  }
 },
 "nbformat": 4,
 "nbformat_minor": 5
}
