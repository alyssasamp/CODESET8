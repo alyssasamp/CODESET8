{
 "cells": [
  {
   "cell_type": "markdown",
   "id": "8a17be0b",
   "metadata": {},
   "source": [
    "# CODE SET 8 "
   ]
  },
  {
   "cell_type": "markdown",
   "id": "c449126b",
   "metadata": {},
   "source": [
    "# Algorithm workbench problem 2\n",
    "Write a loop that counts the number of space characters that appear in the string referenced by mystring."
   ]
  },
  {
   "cell_type": "code",
   "execution_count": null,
   "id": "ba50ccb5",
   "metadata": {},
   "outputs": [],
   "source": [
    "#Main function\n",
    "def main():\n",
    "    #Initial count \n",
    "    count = 0 "
   ]
  }
 ],
 "metadata": {
  "kernelspec": {
   "display_name": "Python 3 (ipykernel)",
   "language": "python",
   "name": "python3"
  },
  "language_info": {
   "codemirror_mode": {
    "name": "ipython",
    "version": 3
   },
   "file_extension": ".py",
   "mimetype": "text/x-python",
   "name": "python",
   "nbconvert_exporter": "python",
   "pygments_lexer": "ipython3",
   "version": "3.10.9"
  }
 },
 "nbformat": 4,
 "nbformat_minor": 5
}
