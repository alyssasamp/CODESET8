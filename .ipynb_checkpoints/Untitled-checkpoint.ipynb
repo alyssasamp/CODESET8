{
 "cells": [
  {
   "cell_type": "markdown",
   "id": "878567d7",
   "metadata": {},
   "source": [
    "# CODE SET 8 "
   ]
  },
  {
   "cell_type": "markdown",
   "id": "10fd0452",
   "metadata": {},
   "source": [
    "# Algorithm workbench problem 2\n",
    "Write a loop that counts the number of space characters that appear in the string referenced by mystring."
   ]
  },
  {
   "cell_type": "code",
   "execution_count": 6,
   "id": "944ac10b",
   "metadata": {},
   "outputs": [
    {
     "name": "stdout",
     "output_type": "stream",
     "text": [
      "Enter Text: I am Alyssa Samp and go to Michigan State University \n",
      "There are 10 spaces in the text\n"
     ]
    }
   ],
   "source": [
    "#Main function\n",
    "def main():\n",
    "    #Initial count \n",
    "    count = 0 \n",
    "    \n",
    "    #HAve them write text using input\n",
    "    mystring= input(\"Enter Text: \")\n",
    "    \n",
    "    #Use for to make loop of the spaces \n",
    "    for ch in mystring:\n",
    "        #ch is what is allowing this code to count the spaces in it(what its looking for)\n",
    "        if ch ==' ':\n",
    "            count +=1\n",
    "            \n",
    "            #Write out the ending result of amount of spaces \n",
    "    print(f'There are {count} spaces in the text')\n",
    "            \n",
    "#Call main function\n",
    "if __name__=='__main__':\n",
    "    main()"
   ]
  },
  {
   "cell_type": "markdown",
   "id": "c63169d3",
   "metadata": {},
   "source": [
    "# Problem 4 Algorithm workbench \n",
    "Write a loop that counts the number of lowercase characters that appear in the string referenced by mystring."
   ]
  },
  {
   "cell_type": "code",
   "execution_count": 7,
   "id": "e00fca88",
   "metadata": {},
   "outputs": [
    {
     "ename": "SyntaxError",
     "evalue": "unterminated string literal (detected at line 15) (3679485236.py, line 15)",
     "output_type": "error",
     "traceback": [
      "\u001b[0;36m  Cell \u001b[0;32mIn[7], line 15\u001b[0;36m\u001b[0m\n\u001b[0;31m    print(f'There are {count} lowercase letters\")\u001b[0m\n\u001b[0m          ^\u001b[0m\n\u001b[0;31mSyntaxError\u001b[0m\u001b[0;31m:\u001b[0m unterminated string literal (detected at line 15)\n"
     ]
    }
   ],
   "source": [
    "#Main function\n",
    "def main():\n",
    "    #Start the intial count to 0\n",
    "    count = 0\n",
    "    \n",
    "    #asking them to write the text(just like with problem 2 above)\n",
    "    mystring= input(\"Enter text\")\n",
    "    \n",
    "    #BEgin the foor loop which is where it counts the number of lowercase letters \n",
    "    for ch in mystring:\n",
    "        if ch.islower():\n",
    "            count += 1\n",
    "            \n",
    "            #Use print to display result of number of lowercase \n",
    "            print(f'There are {count} lowercase letters\")\n",
    "                  \n",
    "#Call main\n",
    "if __name__=='__main__':\n",
    "    main()"
   ]
  },
  {
   "cell_type": "code",
   "execution_count": null,
   "id": "874ecdfb",
   "metadata": {},
   "outputs": [],
   "source": []
  }
 ],
 "metadata": {
  "kernelspec": {
   "display_name": "Python 3 (ipykernel)",
   "language": "python",
   "name": "python3"
  },
  "language_info": {
   "codemirror_mode": {
    "name": "ipython",
    "version": 3
   },
   "file_extension": ".py",
   "mimetype": "text/x-python",
   "name": "python",
   "nbconvert_exporter": "python",
   "pygments_lexer": "ipython3",
   "version": "3.10.9"
  }
 },
 "nbformat": 4,
 "nbformat_minor": 5
}
