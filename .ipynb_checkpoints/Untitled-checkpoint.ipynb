{
 "cells": [
  {
   "cell_type": "markdown",
   "id": "f487587d",
   "metadata": {},
   "source": [
    "# CODE SET 8 "
   ]
  },
  {
   "cell_type": "markdown",
   "id": "47d8b169",
   "metadata": {},
   "source": [
    "# Algorithm workbench problem 2\n",
    "Write a loop that counts the number of space characters that appear in the string referenced by mystring."
   ]
  },
  {
   "cell_type": "code",
   "execution_count": 6,
   "id": "79d4453b",
   "metadata": {},
   "outputs": [
    {
     "name": "stdout",
     "output_type": "stream",
     "text": [
      "Enter Text: I am Alyssa Samp and go to Michigan State University \n",
      "There are 10 spaces in the text\n"
     ]
    }
   ],
   "source": [
    "#Main function\n",
    "def main():\n",
    "    #Initial count \n",
    "    count = 0 \n",
    "    \n",
    "    #HAve them write text using input\n",
    "    mystring= input(\"Enter Text: \")\n",
    "    \n",
    "    #Use for to make loop of the spaces \n",
    "    for ch in mystring:\n",
    "        #ch is what is allowing this code to count the spaces in it(what its looking for)\n",
    "        if ch ==' ':\n",
    "            count +=1\n",
    "            \n",
    "            #Write out the ending result of amount of spaces \n",
    "    print(f'There are {count} spaces in the text')\n",
    "            \n",
    "#Call main function\n",
    "if __name__=='__main__':\n",
    "    main()"
   ]
  },
  {
   "cell_type": "markdown",
   "id": "a57c8f7b",
   "metadata": {},
   "source": [
    "# Problem 4 Algorithm workbench \n",
    "Write a loop that counts the number of lowercase characters that appear in the string referenced by mystring."
   ]
  },
  {
   "cell_type": "code",
   "execution_count": 9,
   "id": "eb7105dd",
   "metadata": {},
   "outputs": [
    {
     "name": "stdout",
     "output_type": "stream",
     "text": [
      "Enter text: Hi, I am 19 years old and am from Wixom, Michigan. \n",
      "There are 1 lowercase letters\n",
      "There are 2 lowercase letters\n",
      "There are 3 lowercase letters\n",
      "There are 4 lowercase letters\n",
      "There are 5 lowercase letters\n",
      "There are 6 lowercase letters\n",
      "There are 7 lowercase letters\n",
      "There are 8 lowercase letters\n",
      "There are 9 lowercase letters\n",
      "There are 10 lowercase letters\n",
      "There are 11 lowercase letters\n",
      "There are 12 lowercase letters\n",
      "There are 13 lowercase letters\n",
      "There are 14 lowercase letters\n",
      "There are 15 lowercase letters\n",
      "There are 16 lowercase letters\n",
      "There are 17 lowercase letters\n",
      "There are 18 lowercase letters\n",
      "There are 19 lowercase letters\n",
      "There are 20 lowercase letters\n",
      "There are 21 lowercase letters\n",
      "There are 22 lowercase letters\n",
      "There are 23 lowercase letters\n",
      "There are 24 lowercase letters\n",
      "There are 25 lowercase letters\n",
      "There are 26 lowercase letters\n",
      "There are 27 lowercase letters\n",
      "There are 28 lowercase letters\n",
      "There are 29 lowercase letters\n",
      "There are 30 lowercase letters\n",
      "There are 31 lowercase letters\n"
     ]
    }
   ],
   "source": [
    "#Main function\n",
    "def main():\n",
    "    #Start the intial count to 0\n",
    "    count = 0\n",
    "    \n",
    "    #asking them to write the text(just like with problem 2 above)\n",
    "    mystring= input(\"Enter text: \")\n",
    "    \n",
    "    #BEgin the foor loop which is where it counts the number of lowercase letters \n",
    "    for ch in mystring:\n",
    "        if ch.islower():\n",
    "            count += 1\n",
    "            \n",
    "            #Use print to display result of number of lowercase \n",
    "            print(f'There are {count} lowercase letters')\n",
    "                  \n",
    "#Call main\n",
    "if __name__=='__main__':\n",
    "    main()"
   ]
  },
  {
   "cell_type": "markdown",
   "id": "296e39dd",
   "metadata": {},
   "source": [
    "# Problem 1- Initials\n",
    "Write a program that gets a string containing a person’s first, middle, and last names, and displays their first, middle, and last initials. For example, if the user enters John William Smith, the program should display J. W. S."
   ]
  },
  {
   "cell_type": "code",
   "execution_count": 10,
   "id": "579723f0",
   "metadata": {},
   "outputs": [
    {
     "name": "stdout",
     "output_type": "stream",
     "text": [
      "Enter your first, middle, and last name: Alyssa Nicole Samp \n",
      "A.N.S.\n"
     ]
    }
   ],
   "source": [
    "##Main \n",
    "def main():\n",
    "    \n",
    "    #Enter their full name\n",
    "    fullname= input('Enter your first, middle, and last name: ')\n",
    "    #label each so that it seperates each on the next line \n",
    "    firstname, middlename, lastname = fullname.split()\n",
    "    #set them equal to initials so when printing it will print all \n",
    "    initials= firstname[0]+\".\" +middlename[0]+\".\" +lastname[0]+\".\"\n",
    "    #Display the initials \n",
    "    print(initials)\n",
    "    \n",
    "#Call main\n",
    "if __name__=='__main__':\n",
    "    main()"
   ]
  },
  {
   "cell_type": "markdown",
   "id": "1dd9f82f",
   "metadata": {},
   "source": [
    "# Problem 2 - Sum of Digits in a String \n",
    "Write a program that asks the user to enter a series of single-digit numbers with nothing separating them. The program should display the sum of all the single digit numbers in the string. For example, if the user enters 2514, the method should return 12, which is the sum of 2, 5, 1, and 4."
   ]
  },
  {
   "cell_type": "code",
   "execution_count": 12,
   "id": "8c1a90b5",
   "metadata": {},
   "outputs": [
    {
     "name": "stdout",
     "output_type": "stream",
     "text": [
      "Enter a series of numbers with nothing seperating them: 38643\n",
      "The sum of the numbers is 3\n",
      "The sum of the numbers is 11\n",
      "The sum of the numbers is 17\n",
      "The sum of the numbers is 21\n",
      "The sum of the numbers is 24\n"
     ]
    }
   ],
   "source": [
    "#MAin \n",
    "def main():\n",
    "    \n",
    "    #Ask user to enter a series of numbers \n",
    "    seriesofnumbers= input('Enter a series of numbers with nothing seperating them: ')\n",
    "    \n",
    "    #Initial count to 0\n",
    "    count = 0\n",
    "    \n",
    "    #This is the loop that will seperate them and add them each together \n",
    "    for num in seriesofnumbers:\n",
    "        count += int(num)\n",
    "        \n",
    "        #NOw display the sum of the numbers \n",
    "        print(f'The sum of the numbers is {count}')\n",
    "\n",
    "#Call main function\n",
    "if __name__=='__main__':\n",
    "    main()"
   ]
  },
  {
   "cell_type": "markdown",
   "id": "6c2b9694",
   "metadata": {},
   "source": [
    "## Problem 3- Date Printer \n",
    "Write a program that reads a string from the user containing a date in the form mm/dd/yyyy. It should print the date in the format March 12, 2018."
   ]
  },
  {
   "cell_type": "code",
   "execution_count": 15,
   "id": "bdae4fbb",
   "metadata": {},
   "outputs": [
    {
     "ename": "NameError",
     "evalue": "name 'month' is not defined",
     "output_type": "error",
     "traceback": [
      "\u001b[0;31m---------------------------------------------------------------------------\u001b[0m",
      "\u001b[0;31mNameError\u001b[0m                                 Traceback (most recent call last)",
      "Cell \u001b[0;32mIn[15], line 42\u001b[0m\n\u001b[1;32m     38\u001b[0m         month \u001b[38;5;241m=\u001b[39m \u001b[38;5;124m'\u001b[39m\u001b[38;5;124mDecember\u001b[39m\u001b[38;5;124m'\u001b[39m\n\u001b[1;32m     41\u001b[0m                 \u001b[38;5;66;03m#Now formatting so it displays date in wording \u001b[39;00m\n\u001b[0;32m---> 42\u001b[0m date_in_wording \u001b[38;5;241m=\u001b[39m \u001b[43mmonth\u001b[49m \u001b[38;5;241m+\u001b[39m \u001b[38;5;124m'\u001b[39m\u001b[38;5;124m \u001b[39m\u001b[38;5;124m'\u001b[39m \u001b[38;5;241m+\u001b[39m \u001b[38;5;28mstr\u001b[39m(day) \u001b[38;5;241m+\u001b[39m \u001b[38;5;124m'\u001b[39m\u001b[38;5;124m,\u001b[39m\u001b[38;5;124m'\u001b[39m \u001b[38;5;241m+\u001b[39m \u001b[38;5;28mstr\u001b[39m(year)\n\u001b[1;32m     44\u001b[0m \u001b[38;5;66;03m#print\u001b[39;00m\n\u001b[1;32m     45\u001b[0m \u001b[38;5;28mprint\u001b[39m(date_in_wording)\n",
      "\u001b[0;31mNameError\u001b[0m: name 'month' is not defined"
     ]
    }
   ],
   "source": [
    "#MAin \n",
    "def main():\n",
    "    #Ask user to enter a date they want \n",
    "    date = input('Enter a date in mm/dd/yyyy: ')\n",
    "    #This splits thes dates into a big list \n",
    "    dates= date.split('/')\n",
    "    \n",
    "    #label month, days, years \n",
    "    month = int(dates[0])\n",
    "    day = int(dates[1])\n",
    "    year = int(dates[2])\n",
    "    \n",
    "    #using if and elif to write all the outcomes of the months with their numbers with it, \n",
    "    #if its not that number it will continue going down line\n",
    "    if month == 1:\n",
    "        month = 'January'\n",
    "    elif month == 2: \n",
    "        month = 'February'\n",
    "    elif month == 3:\n",
    "        month = 'March'\n",
    "    elif month == 4:\n",
    "        month = 'April'\n",
    "    elif month == 5:\n",
    "        month ='May'\n",
    "    elif month ==6:\n",
    "        month = 'June'\n",
    "    elif month == 7:\n",
    "        month = 'July'\n",
    "    elif month == 8:\n",
    "        month = 'August'\n",
    "    elif month == 9:\n",
    "        month = 'September'\n",
    "    elif month == 10:\n",
    "        month = 'October'\n",
    "    elif month == 11:\n",
    "        month = 'November'\n",
    "    elif month == 12:\n",
    "        month = 'December'\n",
    "                                                    \n",
    "                                                    \n",
    "                #Now formatting so it displays date in wording \n",
    "date_in_wording = month + ' ' + str(day) + ',' + str(year)\n",
    "\n",
    "#print\n",
    "print(date_in_wording)\n",
    "\n",
    "#Call function\n",
    "if __name__=='__main__':\n",
    "    main()"
   ]
  },
  {
   "cell_type": "code",
   "execution_count": null,
   "id": "71f496f8",
   "metadata": {},
   "outputs": [],
   "source": []
  }
 ],
 "metadata": {
  "kernelspec": {
   "display_name": "Python 3 (ipykernel)",
   "language": "python",
   "name": "python3"
  },
  "language_info": {
   "codemirror_mode": {
    "name": "ipython",
    "version": 3
   },
   "file_extension": ".py",
   "mimetype": "text/x-python",
   "name": "python",
   "nbconvert_exporter": "python",
   "pygments_lexer": "ipython3",
   "version": "3.10.9"
  }
 },
 "nbformat": 4,
 "nbformat_minor": 5
}
